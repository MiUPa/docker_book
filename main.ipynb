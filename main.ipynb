{
 "cells": [
  {
   "cell_type": "code",
   "execution_count": 1,
   "outputs": [
    {
     "name": "stderr",
     "output_type": "stream",
     "text": [
      "Duplicate key in file PosixPath('/Users/Y.Miura/anaconda3/lib/python3.11/site-packages/matplotlib/mpl-data/matplotlibrc'), line 263 ('font.family:  IPAexGothic')\n"
     ]
    },
    {
     "name": "stdout",
     "output_type": "stream",
     "text": [
      "trainサイズ: 3000\n",
      "testサイズ: 2000\n",
      "train_dataサイズ: 5000\n"
     ]
    }
   ],
   "source": [
    "import pandas as pd\n",
    "import numpy as np\n",
    "import lightgbm as lgb\n",
    "import random\n",
    "%matplotlib inline\n",
    "import matplotlib.pyplot as plt\n",
    "import seaborn as sns\n",
    "from sklearn.model_selection import train_test_split\n",
    "from sklearn.metrics import mean_squared_error\n",
    "from sklearn.linear_model import LinearRegression\n",
    "from lightgbm import LGBMRegressor\n",
    "import xgboost as xgb\n",
    "from xgboost import XGBRegressor\n",
    "# from catboost import CatBoostRegressor, Pool\n",
    "from sklearn.ensemble import RandomForestRegressor\n",
    "from sklearn.tree import DecisionTreeRegressor\n",
    "import warnings\n",
    "warnings.filterwarnings('ignore')\n",
    "from sklearn.preprocessing import LabelEncoder\n",
    "\n",
    "#表示するテーブルの最大行と最大列を指定\n",
    "pd.options.display.max_columns = 100\n",
    "pd.options.display.max_rows = 999\n",
    "\n",
    "seed = 42\n",
    "# 乱数初期化\n",
    "random.seed(seed)\n",
    "np.random.seed(seed)\n",
    "\n",
    "# データの読み込み\n",
    "train = pd.read_csv('train.csv')\n",
    "test = pd.read_csv('test.csv')\n",
    "sample_submit = pd.read_csv('sample_submit.csv')\n",
    "\n",
    "# データ処理のためtrainとtestを結合\n",
    "train_data = pd.concat([train, test])\n",
    "print('trainサイズ:', len(train))\n",
    "print('testサイズ:',  len(test))\n",
    "print('train_dataサイズ:', len(train_data))"
   ],
   "metadata": {
    "collapsed": false,
    "ExecuteTime": {
     "end_time": "2023-12-17T09:07:01.398467Z",
     "start_time": "2023-12-17T09:06:51.091937Z"
    }
   },
   "id": "fb4bf21d6dbb5270"
  },
  {
   "cell_type": "code",
   "execution_count": 2,
   "outputs": [
    {
     "data": {
      "text/plain": "index                int64\nOrder                int64\nMS SubClass          int64\nMS Zoning         category\nLot Area             int64\nLot Shape         category\nLand Contour      category\nLot Config        category\nNeighborhood      category\nBldg Type         category\nHouse Style       category\nOverall Qual         int64\nOverall Cond         int64\nYear Built           int64\nYear Remod/Add       int64\nRoof Style        category\nExterior 1st      category\nExterior 2nd      category\nExter Qual        category\nFoundation        category\nBsmtFin SF 1       float64\nBsmt Unf SF        float64\nTotal Bsmt SF      float64\nHeating QC        category\nCentral Air       category\nElectrical        category\n1st Flr SF           int64\n2nd Flr SF           int64\nGr Liv Area          int64\nBsmt Full Bath     float64\nFull Bath            int64\nHalf Bath            int64\nBedroom AbvGr        int64\nKitchen AbvGr        int64\nKitchen Qual      category\nTotRms AbvGrd        int64\nFireplaces           int64\nGarage Cars        float64\nGarage Area        float64\nPaved Drive       category\nWood Deck SF         int64\nOpen Porch SF        int64\nMo Sold              int64\nYr Sold              int64\nSale Type         category\nSale Condition    category\nSalePrice          float64\ndtype: object"
     },
     "execution_count": 2,
     "metadata": {},
     "output_type": "execute_result"
    }
   ],
   "source": [
    "# オブジェクトカラムをラベルエンコーディング\n",
    "object_columns = train_data.select_dtypes(include=['object']).columns.tolist()\n",
    "le = LabelEncoder()\n",
    "for column in object_columns:\n",
    "    train_data[column] = le.fit_transform(train_data[column])\n",
    "    # train[column] = train[column].astype('cateogyr')\n",
    "train_data[object_columns] = train_data[object_columns].astype('category')\n",
    "train_data.dtypes"
   ],
   "metadata": {
    "collapsed": false,
    "ExecuteTime": {
     "end_time": "2023-12-17T09:07:01.615718Z",
     "start_time": "2023-12-17T09:07:01.393177Z"
    }
   },
   "id": "7aec10a47d380c96"
  },
  {
   "cell_type": "code",
   "execution_count": 3,
   "outputs": [
    {
     "data": {
      "text/plain": "      index  Order  MS SubClass MS Zoning  Lot Area Lot Shape Land Contour  \\\n0       200   2163           20        RL      9000       Reg          Lvl   \n1      3832   1862           20        RL      9600       Reg          Lvl   \n2      4927    754           20        RL      9600       Reg          Lvl   \n3      4088    641           80        RL      9600       Reg          Lvl   \n4      3644    754           20        RL      9600       Reg          Lvl   \n...     ...    ...          ...       ...       ...       ...          ...   \n2995   4931     27          120        RL      1680       Reg          Lvl   \n2996   3264   2203          160        RL      2665       Reg          Lvl   \n2997   1653   2447           20        RL      7200       Reg          Lvl   \n2998   2607    378           60        FV      9000       Reg          Lvl   \n2999   2732   2284           20        RL      9600       Reg          Lvl   \n\n     Lot Config Neighborhood Bldg Type House Style  Overall Qual  \\\n0        Inside        NAmes      1Fam      1Story             5   \n1        Inside      CollgCr      1Fam      1Story             7   \n2        Inside      NridgHt      1Fam      1Story             9   \n3        Inside      OldTown      1Fam        SLvl             6   \n4        Inside      NoRidge      1Fam      1Story             7   \n...         ...          ...       ...         ...           ...   \n2995     Inside      NridgHt    TwnhsE      1Story             5   \n2996     Inside      MeadowV      1Fam      2Story             5   \n2997     Inside        NAmes      1Fam      1Story             5   \n2998     Inside      Somerst      1Fam      2Story             6   \n2999     Inside      Edwards      1Fam      1Story             5   \n\n      Overall Cond  Year Built  Year Remod/Add Roof Style Exterior 1st  \\\n0                5        1963            1950      Gable      VinylSd   \n1                5        2006            2006      Gable      VinylSd   \n2                5        2007            2007        Hip      VinylSd   \n3                6        1976            1950      Gable      VinylSd   \n4                5        1994            2002      Gable      VinylSd   \n...            ...         ...             ...        ...          ...   \n2995             5        2004            2004      Gable      VinylSd   \n2996             5        1970            1970      Gable      CemntBd   \n2997             5        1963            1950      Gable      VinylSd   \n2998             5        2005            1950      Gable      VinylSd   \n2999             5        1950            1950      Gable      HdBoard   \n\n     Exterior 2nd Exter Qual Foundation  BsmtFin SF 1  Bsmt Unf SF  \\\n0         VinylSd         TA     CBlock    554.725259   490.862838   \n1         VinylSd         Gd      PConc    514.217911  1711.943709   \n2         VinylSd         Gd      PConc   1596.991227   511.217197   \n3         Plywood         TA     CBlock    586.182353   469.685845   \n4         VinylSd         Gd      PConc   1589.946047   484.337352   \n...           ...        ...        ...           ...          ...   \n2995      VinylSd         TA      PConc    620.110745   511.080630   \n2996      MetalSd         TA      PConc      0.001057   480.872842   \n2997      VinylSd         TA     CBlock    554.523591   488.283374   \n2998      VinylSd         Gd      PConc      0.000872   504.687298   \n2999      HdBoard         TA     CBlock      0.001002   138.664835   \n\n      Total Bsmt SF Heating QC Central Air Electrical  1st Flr SF  2nd Flr SF  \\\n0        620.339061         Ex           Y      SBrkr         941           0   \n1       1286.011022         Ex           Y      SBrkr         894           0   \n2       1341.741207         Ex           Y      SBrkr         864           0   \n3        566.069609         Gd           Y      SBrkr         864           0   \n4       1258.013116         Ex           Y      SBrkr         832           0   \n...             ...        ...         ...        ...         ...         ...   \n2995    1163.794125         Ex           Y      SBrkr        1337           0   \n2996     543.789909         Ex           Y      SBrkr        1040           0   \n2997     621.223013         Ex           Y      SBrkr        1098           0   \n2998     599.525621         Ex           Y      SBrkr         728           0   \n2999    -146.979773         Ex           Y      SBrkr         864           0   \n\n      Gr Liv Area  Bsmt Full Bath  Full Bath  Half Bath  Bedroom AbvGr  \\\n0            2358        1.001999          2          0              3   \n1            1040        0.002000          2          0              3   \n2             864        1.001999          2          0              3   \n3             864        0.002000          1          0              3   \n4            1040        1.001998          2          0              3   \n...           ...             ...        ...        ...            ...   \n2995         1728        0.002000          2          0              3   \n2996         1040        0.001999          1          1              3   \n2997         2358        1.001999          2          0              3   \n2998         1456        0.001999          2          1              3   \n2999         1040        0.002000          1          0              3   \n\n      Kitchen AbvGr Kitchen Qual  TotRms AbvGrd  Fireplaces  Garage Cars  \\\n0                 1           TA              5           0     1.998003   \n1                 1           Gd              6           0     1.998003   \n2                 1           Gd              7           1     2.998015   \n3                 1           TA              6           0     0.998002   \n4                 1           Gd              7           1     2.998012   \n...             ...          ...            ...         ...          ...   \n2995              1           TA              6           0     1.998001   \n2996              1           TA              6           0     1.998004   \n2997              1           TA              5           0     1.998003   \n2998              1           TA              7           1     1.998002   \n2999              1           TA              6           1     0.998001   \n\n      Garage Area Paved Drive  Wood Deck SF  Open Porch SF  Mo Sold  Yr Sold  \\\n0      381.014258           Y             0              0        7     2007   \n1      384.114652           Y             0              0       11     2007   \n2      625.140330           Y             0              0        5     2008   \n3      193.156275           Y             0              0        7     2006   \n4      617.903766           Y             0              0        7     2007   \n...           ...         ...           ...            ...      ...      ...   \n2995   416.886419           Y             0              0        5     2009   \n2996   371.721904           Y             0              0        5     2006   \n2997   379.306321           Y             0              0        7     2007   \n2998   371.138581           Y             0              0        7     2007   \n2999   183.425942           Y             0              0        6     2009   \n\n     Sale Type Sale Condition  SalePrice  \n0          WD          Normal     158000  \n1          WD          Normal     145000  \n2          WD          Normal     125000  \n3          WD          Normal     135000  \n4          WD          Normal     175000  \n...        ...            ...        ...  \n2995       WD          Normal     130000  \n2996       WD          Normal     140000  \n2997       WD          Normal     158000  \n2998       WD          Normal     158000  \n2999       WD          Normal     153000  \n\n[3000 rows x 47 columns]",
      "text/html": "<div>\n<style scoped>\n    .dataframe tbody tr th:only-of-type {\n        vertical-align: middle;\n    }\n\n    .dataframe tbody tr th {\n        vertical-align: top;\n    }\n\n    .dataframe thead th {\n        text-align: right;\n    }\n</style>\n<table border=\"1\" class=\"dataframe\">\n  <thead>\n    <tr style=\"text-align: right;\">\n      <th></th>\n      <th>index</th>\n      <th>Order</th>\n      <th>MS SubClass</th>\n      <th>MS Zoning</th>\n      <th>Lot Area</th>\n      <th>Lot Shape</th>\n      <th>Land Contour</th>\n      <th>Lot Config</th>\n      <th>Neighborhood</th>\n      <th>Bldg Type</th>\n      <th>House Style</th>\n      <th>Overall Qual</th>\n      <th>Overall Cond</th>\n      <th>Year Built</th>\n      <th>Year Remod/Add</th>\n      <th>Roof Style</th>\n      <th>Exterior 1st</th>\n      <th>Exterior 2nd</th>\n      <th>Exter Qual</th>\n      <th>Foundation</th>\n      <th>BsmtFin SF 1</th>\n      <th>Bsmt Unf SF</th>\n      <th>Total Bsmt SF</th>\n      <th>Heating QC</th>\n      <th>Central Air</th>\n      <th>Electrical</th>\n      <th>1st Flr SF</th>\n      <th>2nd Flr SF</th>\n      <th>Gr Liv Area</th>\n      <th>Bsmt Full Bath</th>\n      <th>Full Bath</th>\n      <th>Half Bath</th>\n      <th>Bedroom AbvGr</th>\n      <th>Kitchen AbvGr</th>\n      <th>Kitchen Qual</th>\n      <th>TotRms AbvGrd</th>\n      <th>Fireplaces</th>\n      <th>Garage Cars</th>\n      <th>Garage Area</th>\n      <th>Paved Drive</th>\n      <th>Wood Deck SF</th>\n      <th>Open Porch SF</th>\n      <th>Mo Sold</th>\n      <th>Yr Sold</th>\n      <th>Sale Type</th>\n      <th>Sale Condition</th>\n      <th>SalePrice</th>\n    </tr>\n  </thead>\n  <tbody>\n    <tr>\n      <th>0</th>\n      <td>200</td>\n      <td>2163</td>\n      <td>20</td>\n      <td>RL</td>\n      <td>9000</td>\n      <td>Reg</td>\n      <td>Lvl</td>\n      <td>Inside</td>\n      <td>NAmes</td>\n      <td>1Fam</td>\n      <td>1Story</td>\n      <td>5</td>\n      <td>5</td>\n      <td>1963</td>\n      <td>1950</td>\n      <td>Gable</td>\n      <td>VinylSd</td>\n      <td>VinylSd</td>\n      <td>TA</td>\n      <td>CBlock</td>\n      <td>554.725259</td>\n      <td>490.862838</td>\n      <td>620.339061</td>\n      <td>Ex</td>\n      <td>Y</td>\n      <td>SBrkr</td>\n      <td>941</td>\n      <td>0</td>\n      <td>2358</td>\n      <td>1.001999</td>\n      <td>2</td>\n      <td>0</td>\n      <td>3</td>\n      <td>1</td>\n      <td>TA</td>\n      <td>5</td>\n      <td>0</td>\n      <td>1.998003</td>\n      <td>381.014258</td>\n      <td>Y</td>\n      <td>0</td>\n      <td>0</td>\n      <td>7</td>\n      <td>2007</td>\n      <td>WD</td>\n      <td>Normal</td>\n      <td>158000</td>\n    </tr>\n    <tr>\n      <th>1</th>\n      <td>3832</td>\n      <td>1862</td>\n      <td>20</td>\n      <td>RL</td>\n      <td>9600</td>\n      <td>Reg</td>\n      <td>Lvl</td>\n      <td>Inside</td>\n      <td>CollgCr</td>\n      <td>1Fam</td>\n      <td>1Story</td>\n      <td>7</td>\n      <td>5</td>\n      <td>2006</td>\n      <td>2006</td>\n      <td>Gable</td>\n      <td>VinylSd</td>\n      <td>VinylSd</td>\n      <td>Gd</td>\n      <td>PConc</td>\n      <td>514.217911</td>\n      <td>1711.943709</td>\n      <td>1286.011022</td>\n      <td>Ex</td>\n      <td>Y</td>\n      <td>SBrkr</td>\n      <td>894</td>\n      <td>0</td>\n      <td>1040</td>\n      <td>0.002000</td>\n      <td>2</td>\n      <td>0</td>\n      <td>3</td>\n      <td>1</td>\n      <td>Gd</td>\n      <td>6</td>\n      <td>0</td>\n      <td>1.998003</td>\n      <td>384.114652</td>\n      <td>Y</td>\n      <td>0</td>\n      <td>0</td>\n      <td>11</td>\n      <td>2007</td>\n      <td>WD</td>\n      <td>Normal</td>\n      <td>145000</td>\n    </tr>\n    <tr>\n      <th>2</th>\n      <td>4927</td>\n      <td>754</td>\n      <td>20</td>\n      <td>RL</td>\n      <td>9600</td>\n      <td>Reg</td>\n      <td>Lvl</td>\n      <td>Inside</td>\n      <td>NridgHt</td>\n      <td>1Fam</td>\n      <td>1Story</td>\n      <td>9</td>\n      <td>5</td>\n      <td>2007</td>\n      <td>2007</td>\n      <td>Hip</td>\n      <td>VinylSd</td>\n      <td>VinylSd</td>\n      <td>Gd</td>\n      <td>PConc</td>\n      <td>1596.991227</td>\n      <td>511.217197</td>\n      <td>1341.741207</td>\n      <td>Ex</td>\n      <td>Y</td>\n      <td>SBrkr</td>\n      <td>864</td>\n      <td>0</td>\n      <td>864</td>\n      <td>1.001999</td>\n      <td>2</td>\n      <td>0</td>\n      <td>3</td>\n      <td>1</td>\n      <td>Gd</td>\n      <td>7</td>\n      <td>1</td>\n      <td>2.998015</td>\n      <td>625.140330</td>\n      <td>Y</td>\n      <td>0</td>\n      <td>0</td>\n      <td>5</td>\n      <td>2008</td>\n      <td>WD</td>\n      <td>Normal</td>\n      <td>125000</td>\n    </tr>\n    <tr>\n      <th>3</th>\n      <td>4088</td>\n      <td>641</td>\n      <td>80</td>\n      <td>RL</td>\n      <td>9600</td>\n      <td>Reg</td>\n      <td>Lvl</td>\n      <td>Inside</td>\n      <td>OldTown</td>\n      <td>1Fam</td>\n      <td>SLvl</td>\n      <td>6</td>\n      <td>6</td>\n      <td>1976</td>\n      <td>1950</td>\n      <td>Gable</td>\n      <td>VinylSd</td>\n      <td>Plywood</td>\n      <td>TA</td>\n      <td>CBlock</td>\n      <td>586.182353</td>\n      <td>469.685845</td>\n      <td>566.069609</td>\n      <td>Gd</td>\n      <td>Y</td>\n      <td>SBrkr</td>\n      <td>864</td>\n      <td>0</td>\n      <td>864</td>\n      <td>0.002000</td>\n      <td>1</td>\n      <td>0</td>\n      <td>3</td>\n      <td>1</td>\n      <td>TA</td>\n      <td>6</td>\n      <td>0</td>\n      <td>0.998002</td>\n      <td>193.156275</td>\n      <td>Y</td>\n      <td>0</td>\n      <td>0</td>\n      <td>7</td>\n      <td>2006</td>\n      <td>WD</td>\n      <td>Normal</td>\n      <td>135000</td>\n    </tr>\n    <tr>\n      <th>4</th>\n      <td>3644</td>\n      <td>754</td>\n      <td>20</td>\n      <td>RL</td>\n      <td>9600</td>\n      <td>Reg</td>\n      <td>Lvl</td>\n      <td>Inside</td>\n      <td>NoRidge</td>\n      <td>1Fam</td>\n      <td>1Story</td>\n      <td>7</td>\n      <td>5</td>\n      <td>1994</td>\n      <td>2002</td>\n      <td>Gable</td>\n      <td>VinylSd</td>\n      <td>VinylSd</td>\n      <td>Gd</td>\n      <td>PConc</td>\n      <td>1589.946047</td>\n      <td>484.337352</td>\n      <td>1258.013116</td>\n      <td>Ex</td>\n      <td>Y</td>\n      <td>SBrkr</td>\n      <td>832</td>\n      <td>0</td>\n      <td>1040</td>\n      <td>1.001998</td>\n      <td>2</td>\n      <td>0</td>\n      <td>3</td>\n      <td>1</td>\n      <td>Gd</td>\n      <td>7</td>\n      <td>1</td>\n      <td>2.998012</td>\n      <td>617.903766</td>\n      <td>Y</td>\n      <td>0</td>\n      <td>0</td>\n      <td>7</td>\n      <td>2007</td>\n      <td>WD</td>\n      <td>Normal</td>\n      <td>175000</td>\n    </tr>\n    <tr>\n      <th>...</th>\n      <td>...</td>\n      <td>...</td>\n      <td>...</td>\n      <td>...</td>\n      <td>...</td>\n      <td>...</td>\n      <td>...</td>\n      <td>...</td>\n      <td>...</td>\n      <td>...</td>\n      <td>...</td>\n      <td>...</td>\n      <td>...</td>\n      <td>...</td>\n      <td>...</td>\n      <td>...</td>\n      <td>...</td>\n      <td>...</td>\n      <td>...</td>\n      <td>...</td>\n      <td>...</td>\n      <td>...</td>\n      <td>...</td>\n      <td>...</td>\n      <td>...</td>\n      <td>...</td>\n      <td>...</td>\n      <td>...</td>\n      <td>...</td>\n      <td>...</td>\n      <td>...</td>\n      <td>...</td>\n      <td>...</td>\n      <td>...</td>\n      <td>...</td>\n      <td>...</td>\n      <td>...</td>\n      <td>...</td>\n      <td>...</td>\n      <td>...</td>\n      <td>...</td>\n      <td>...</td>\n      <td>...</td>\n      <td>...</td>\n      <td>...</td>\n      <td>...</td>\n      <td>...</td>\n    </tr>\n    <tr>\n      <th>2995</th>\n      <td>4931</td>\n      <td>27</td>\n      <td>120</td>\n      <td>RL</td>\n      <td>1680</td>\n      <td>Reg</td>\n      <td>Lvl</td>\n      <td>Inside</td>\n      <td>NridgHt</td>\n      <td>TwnhsE</td>\n      <td>1Story</td>\n      <td>5</td>\n      <td>5</td>\n      <td>2004</td>\n      <td>2004</td>\n      <td>Gable</td>\n      <td>VinylSd</td>\n      <td>VinylSd</td>\n      <td>TA</td>\n      <td>PConc</td>\n      <td>620.110745</td>\n      <td>511.080630</td>\n      <td>1163.794125</td>\n      <td>Ex</td>\n      <td>Y</td>\n      <td>SBrkr</td>\n      <td>1337</td>\n      <td>0</td>\n      <td>1728</td>\n      <td>0.002000</td>\n      <td>2</td>\n      <td>0</td>\n      <td>3</td>\n      <td>1</td>\n      <td>TA</td>\n      <td>6</td>\n      <td>0</td>\n      <td>1.998001</td>\n      <td>416.886419</td>\n      <td>Y</td>\n      <td>0</td>\n      <td>0</td>\n      <td>5</td>\n      <td>2009</td>\n      <td>WD</td>\n      <td>Normal</td>\n      <td>130000</td>\n    </tr>\n    <tr>\n      <th>2996</th>\n      <td>3264</td>\n      <td>2203</td>\n      <td>160</td>\n      <td>RL</td>\n      <td>2665</td>\n      <td>Reg</td>\n      <td>Lvl</td>\n      <td>Inside</td>\n      <td>MeadowV</td>\n      <td>1Fam</td>\n      <td>2Story</td>\n      <td>5</td>\n      <td>5</td>\n      <td>1970</td>\n      <td>1970</td>\n      <td>Gable</td>\n      <td>CemntBd</td>\n      <td>MetalSd</td>\n      <td>TA</td>\n      <td>PConc</td>\n      <td>0.001057</td>\n      <td>480.872842</td>\n      <td>543.789909</td>\n      <td>Ex</td>\n      <td>Y</td>\n      <td>SBrkr</td>\n      <td>1040</td>\n      <td>0</td>\n      <td>1040</td>\n      <td>0.001999</td>\n      <td>1</td>\n      <td>1</td>\n      <td>3</td>\n      <td>1</td>\n      <td>TA</td>\n      <td>6</td>\n      <td>0</td>\n      <td>1.998004</td>\n      <td>371.721904</td>\n      <td>Y</td>\n      <td>0</td>\n      <td>0</td>\n      <td>5</td>\n      <td>2006</td>\n      <td>WD</td>\n      <td>Normal</td>\n      <td>140000</td>\n    </tr>\n    <tr>\n      <th>2997</th>\n      <td>1653</td>\n      <td>2447</td>\n      <td>20</td>\n      <td>RL</td>\n      <td>7200</td>\n      <td>Reg</td>\n      <td>Lvl</td>\n      <td>Inside</td>\n      <td>NAmes</td>\n      <td>1Fam</td>\n      <td>1Story</td>\n      <td>5</td>\n      <td>5</td>\n      <td>1963</td>\n      <td>1950</td>\n      <td>Gable</td>\n      <td>VinylSd</td>\n      <td>VinylSd</td>\n      <td>TA</td>\n      <td>CBlock</td>\n      <td>554.523591</td>\n      <td>488.283374</td>\n      <td>621.223013</td>\n      <td>Ex</td>\n      <td>Y</td>\n      <td>SBrkr</td>\n      <td>1098</td>\n      <td>0</td>\n      <td>2358</td>\n      <td>1.001999</td>\n      <td>2</td>\n      <td>0</td>\n      <td>3</td>\n      <td>1</td>\n      <td>TA</td>\n      <td>5</td>\n      <td>0</td>\n      <td>1.998003</td>\n      <td>379.306321</td>\n      <td>Y</td>\n      <td>0</td>\n      <td>0</td>\n      <td>7</td>\n      <td>2007</td>\n      <td>WD</td>\n      <td>Normal</td>\n      <td>158000</td>\n    </tr>\n    <tr>\n      <th>2998</th>\n      <td>2607</td>\n      <td>378</td>\n      <td>60</td>\n      <td>FV</td>\n      <td>9000</td>\n      <td>Reg</td>\n      <td>Lvl</td>\n      <td>Inside</td>\n      <td>Somerst</td>\n      <td>1Fam</td>\n      <td>2Story</td>\n      <td>6</td>\n      <td>5</td>\n      <td>2005</td>\n      <td>1950</td>\n      <td>Gable</td>\n      <td>VinylSd</td>\n      <td>VinylSd</td>\n      <td>Gd</td>\n      <td>PConc</td>\n      <td>0.000872</td>\n      <td>504.687298</td>\n      <td>599.525621</td>\n      <td>Ex</td>\n      <td>Y</td>\n      <td>SBrkr</td>\n      <td>728</td>\n      <td>0</td>\n      <td>1456</td>\n      <td>0.001999</td>\n      <td>2</td>\n      <td>1</td>\n      <td>3</td>\n      <td>1</td>\n      <td>TA</td>\n      <td>7</td>\n      <td>1</td>\n      <td>1.998002</td>\n      <td>371.138581</td>\n      <td>Y</td>\n      <td>0</td>\n      <td>0</td>\n      <td>7</td>\n      <td>2007</td>\n      <td>WD</td>\n      <td>Normal</td>\n      <td>158000</td>\n    </tr>\n    <tr>\n      <th>2999</th>\n      <td>2732</td>\n      <td>2284</td>\n      <td>20</td>\n      <td>RL</td>\n      <td>9600</td>\n      <td>Reg</td>\n      <td>Lvl</td>\n      <td>Inside</td>\n      <td>Edwards</td>\n      <td>1Fam</td>\n      <td>1Story</td>\n      <td>5</td>\n      <td>5</td>\n      <td>1950</td>\n      <td>1950</td>\n      <td>Gable</td>\n      <td>HdBoard</td>\n      <td>HdBoard</td>\n      <td>TA</td>\n      <td>CBlock</td>\n      <td>0.001002</td>\n      <td>138.664835</td>\n      <td>-146.979773</td>\n      <td>Ex</td>\n      <td>Y</td>\n      <td>SBrkr</td>\n      <td>864</td>\n      <td>0</td>\n      <td>1040</td>\n      <td>0.002000</td>\n      <td>1</td>\n      <td>0</td>\n      <td>3</td>\n      <td>1</td>\n      <td>TA</td>\n      <td>6</td>\n      <td>1</td>\n      <td>0.998001</td>\n      <td>183.425942</td>\n      <td>Y</td>\n      <td>0</td>\n      <td>0</td>\n      <td>6</td>\n      <td>2009</td>\n      <td>WD</td>\n      <td>Normal</td>\n      <td>153000</td>\n    </tr>\n  </tbody>\n</table>\n<p>3000 rows × 47 columns</p>\n</div>"
     },
     "execution_count": 3,
     "metadata": {},
     "output_type": "execute_result"
    }
   ],
   "source": [
    "train"
   ],
   "metadata": {
    "collapsed": false,
    "ExecuteTime": {
     "end_time": "2023-12-17T09:07:01.875826Z",
     "start_time": "2023-12-17T09:07:01.628062Z"
    }
   },
   "id": "aa776e13e5a673ea"
  },
  {
   "cell_type": "code",
   "execution_count": 4,
   "outputs": [
    {
     "data": {
      "text/plain": "   index  Order  MS SubClass MS Zoning  Lot Area Lot Shape Land Contour  \\\n0    398    414           60        RL      6120       IR1          Lvl   \n1   3833   2163           20        RL      9600       Reg          Lvl   \n2   4836    754           20        RL      9600       IR1          Lvl   \n3   4572   2284           80        RL      9600       IR1          Lvl   \n4    636   2163           20        RL      7200       Reg          Lvl   \n\n  Lot Config Neighborhood Bldg Type House Style  Overall Qual  Overall Cond  \\\n0     Inside      CollgCr      1Fam      2Story             8             5   \n1     Inside       Sawyer      1Fam      1Story             5             5   \n2     Inside      NridgHt      1Fam      1Story             9             5   \n3     Inside        NAmes      1Fam        SLvl             5             5   \n4     Inside        NAmes      1Fam      1Story             5             5   \n\n   Year Built  Year Remod/Add Roof Style Exterior 1st Exterior 2nd Exter Qual  \\\n0        1994            1950      Gable      VinylSd      VinylSd         TA   \n1        2008            1962      Gable      VinylSd      VinylSd         TA   \n2        2006            1950      Gable      VinylSd      VinylSd         TA   \n3        1978            1950      Gable      Plywood      Plywood         TA   \n4        1963            1950      Gable      VinylSd      VinylSd         TA   \n\n  Foundation  BsmtFin SF 1  Bsmt Unf SF  Total Bsmt SF Heating QC Central Air  \\\n0      PConc    505.055258   197.338260     616.126989         Ex           Y   \n1      PConc   1624.953706   494.176016    1285.118653         Ex           Y   \n2      PConc      0.001088  1813.402938    1294.560167         Ex           Y   \n3     CBlock    567.457470   202.103285     598.983455         TA           Y   \n4     CBlock    555.696962   489.267758     622.300052         Ex           Y   \n\n  Electrical  1st Flr SF  2nd Flr SF  Gr Liv Area  Bsmt Full Bath  Full Bath  \\\n0      SBrkr         864           0          864        0.002000          2   \n1      SBrkr        1382           0          864        1.001999          2   \n2      SBrkr         912           0          864        0.002000          2   \n3      SBrkr         864           0          864        1.001999          1   \n4      SBrkr         941           0          848        1.001999          2   \n\n   Half Bath  Bedroom AbvGr  Kitchen AbvGr Kitchen Qual  TotRms AbvGrd  \\\n0          0              3              1           Gd              7   \n1          0              3              1           TA              5   \n2          0              3              1           Ex             10   \n3          0              3              1           TA              6   \n4          0              3              1           TA              5   \n\n   Fireplaces  Garage Cars  Garage Area Paved Drive  Wood Deck SF  \\\n0           1     2.998003   372.666174           Y             0   \n1           0     1.998014   637.974154           Y             0   \n2           1     2.998008   605.913790           Y             0   \n3           1     0.998020   200.755592           Y             0   \n4           0     1.998003   377.495159           Y             0   \n\n   Open Porch SF  Mo Sold  Yr Sold Sale Type Sale Condition  \n0              0        6     2006       WD          Normal  \n1              0        3     2006       WD          Normal  \n2              0        5     2007       WD          Normal  \n3              0        7     2006       WD          Normal  \n4              0        7     2007       WD          Normal  ",
      "text/html": "<div>\n<style scoped>\n    .dataframe tbody tr th:only-of-type {\n        vertical-align: middle;\n    }\n\n    .dataframe tbody tr th {\n        vertical-align: top;\n    }\n\n    .dataframe thead th {\n        text-align: right;\n    }\n</style>\n<table border=\"1\" class=\"dataframe\">\n  <thead>\n    <tr style=\"text-align: right;\">\n      <th></th>\n      <th>index</th>\n      <th>Order</th>\n      <th>MS SubClass</th>\n      <th>MS Zoning</th>\n      <th>Lot Area</th>\n      <th>Lot Shape</th>\n      <th>Land Contour</th>\n      <th>Lot Config</th>\n      <th>Neighborhood</th>\n      <th>Bldg Type</th>\n      <th>House Style</th>\n      <th>Overall Qual</th>\n      <th>Overall Cond</th>\n      <th>Year Built</th>\n      <th>Year Remod/Add</th>\n      <th>Roof Style</th>\n      <th>Exterior 1st</th>\n      <th>Exterior 2nd</th>\n      <th>Exter Qual</th>\n      <th>Foundation</th>\n      <th>BsmtFin SF 1</th>\n      <th>Bsmt Unf SF</th>\n      <th>Total Bsmt SF</th>\n      <th>Heating QC</th>\n      <th>Central Air</th>\n      <th>Electrical</th>\n      <th>1st Flr SF</th>\n      <th>2nd Flr SF</th>\n      <th>Gr Liv Area</th>\n      <th>Bsmt Full Bath</th>\n      <th>Full Bath</th>\n      <th>Half Bath</th>\n      <th>Bedroom AbvGr</th>\n      <th>Kitchen AbvGr</th>\n      <th>Kitchen Qual</th>\n      <th>TotRms AbvGrd</th>\n      <th>Fireplaces</th>\n      <th>Garage Cars</th>\n      <th>Garage Area</th>\n      <th>Paved Drive</th>\n      <th>Wood Deck SF</th>\n      <th>Open Porch SF</th>\n      <th>Mo Sold</th>\n      <th>Yr Sold</th>\n      <th>Sale Type</th>\n      <th>Sale Condition</th>\n    </tr>\n  </thead>\n  <tbody>\n    <tr>\n      <th>0</th>\n      <td>398</td>\n      <td>414</td>\n      <td>60</td>\n      <td>RL</td>\n      <td>6120</td>\n      <td>IR1</td>\n      <td>Lvl</td>\n      <td>Inside</td>\n      <td>CollgCr</td>\n      <td>1Fam</td>\n      <td>2Story</td>\n      <td>8</td>\n      <td>5</td>\n      <td>1994</td>\n      <td>1950</td>\n      <td>Gable</td>\n      <td>VinylSd</td>\n      <td>VinylSd</td>\n      <td>TA</td>\n      <td>PConc</td>\n      <td>505.055258</td>\n      <td>197.338260</td>\n      <td>616.126989</td>\n      <td>Ex</td>\n      <td>Y</td>\n      <td>SBrkr</td>\n      <td>864</td>\n      <td>0</td>\n      <td>864</td>\n      <td>0.002000</td>\n      <td>2</td>\n      <td>0</td>\n      <td>3</td>\n      <td>1</td>\n      <td>Gd</td>\n      <td>7</td>\n      <td>1</td>\n      <td>2.998003</td>\n      <td>372.666174</td>\n      <td>Y</td>\n      <td>0</td>\n      <td>0</td>\n      <td>6</td>\n      <td>2006</td>\n      <td>WD</td>\n      <td>Normal</td>\n    </tr>\n    <tr>\n      <th>1</th>\n      <td>3833</td>\n      <td>2163</td>\n      <td>20</td>\n      <td>RL</td>\n      <td>9600</td>\n      <td>Reg</td>\n      <td>Lvl</td>\n      <td>Inside</td>\n      <td>Sawyer</td>\n      <td>1Fam</td>\n      <td>1Story</td>\n      <td>5</td>\n      <td>5</td>\n      <td>2008</td>\n      <td>1962</td>\n      <td>Gable</td>\n      <td>VinylSd</td>\n      <td>VinylSd</td>\n      <td>TA</td>\n      <td>PConc</td>\n      <td>1624.953706</td>\n      <td>494.176016</td>\n      <td>1285.118653</td>\n      <td>Ex</td>\n      <td>Y</td>\n      <td>SBrkr</td>\n      <td>1382</td>\n      <td>0</td>\n      <td>864</td>\n      <td>1.001999</td>\n      <td>2</td>\n      <td>0</td>\n      <td>3</td>\n      <td>1</td>\n      <td>TA</td>\n      <td>5</td>\n      <td>0</td>\n      <td>1.998014</td>\n      <td>637.974154</td>\n      <td>Y</td>\n      <td>0</td>\n      <td>0</td>\n      <td>3</td>\n      <td>2006</td>\n      <td>WD</td>\n      <td>Normal</td>\n    </tr>\n    <tr>\n      <th>2</th>\n      <td>4836</td>\n      <td>754</td>\n      <td>20</td>\n      <td>RL</td>\n      <td>9600</td>\n      <td>IR1</td>\n      <td>Lvl</td>\n      <td>Inside</td>\n      <td>NridgHt</td>\n      <td>1Fam</td>\n      <td>1Story</td>\n      <td>9</td>\n      <td>5</td>\n      <td>2006</td>\n      <td>1950</td>\n      <td>Gable</td>\n      <td>VinylSd</td>\n      <td>VinylSd</td>\n      <td>TA</td>\n      <td>PConc</td>\n      <td>0.001088</td>\n      <td>1813.402938</td>\n      <td>1294.560167</td>\n      <td>Ex</td>\n      <td>Y</td>\n      <td>SBrkr</td>\n      <td>912</td>\n      <td>0</td>\n      <td>864</td>\n      <td>0.002000</td>\n      <td>2</td>\n      <td>0</td>\n      <td>3</td>\n      <td>1</td>\n      <td>Ex</td>\n      <td>10</td>\n      <td>1</td>\n      <td>2.998008</td>\n      <td>605.913790</td>\n      <td>Y</td>\n      <td>0</td>\n      <td>0</td>\n      <td>5</td>\n      <td>2007</td>\n      <td>WD</td>\n      <td>Normal</td>\n    </tr>\n    <tr>\n      <th>3</th>\n      <td>4572</td>\n      <td>2284</td>\n      <td>80</td>\n      <td>RL</td>\n      <td>9600</td>\n      <td>IR1</td>\n      <td>Lvl</td>\n      <td>Inside</td>\n      <td>NAmes</td>\n      <td>1Fam</td>\n      <td>SLvl</td>\n      <td>5</td>\n      <td>5</td>\n      <td>1978</td>\n      <td>1950</td>\n      <td>Gable</td>\n      <td>Plywood</td>\n      <td>Plywood</td>\n      <td>TA</td>\n      <td>CBlock</td>\n      <td>567.457470</td>\n      <td>202.103285</td>\n      <td>598.983455</td>\n      <td>TA</td>\n      <td>Y</td>\n      <td>SBrkr</td>\n      <td>864</td>\n      <td>0</td>\n      <td>864</td>\n      <td>1.001999</td>\n      <td>1</td>\n      <td>0</td>\n      <td>3</td>\n      <td>1</td>\n      <td>TA</td>\n      <td>6</td>\n      <td>1</td>\n      <td>0.998020</td>\n      <td>200.755592</td>\n      <td>Y</td>\n      <td>0</td>\n      <td>0</td>\n      <td>7</td>\n      <td>2006</td>\n      <td>WD</td>\n      <td>Normal</td>\n    </tr>\n    <tr>\n      <th>4</th>\n      <td>636</td>\n      <td>2163</td>\n      <td>20</td>\n      <td>RL</td>\n      <td>7200</td>\n      <td>Reg</td>\n      <td>Lvl</td>\n      <td>Inside</td>\n      <td>NAmes</td>\n      <td>1Fam</td>\n      <td>1Story</td>\n      <td>5</td>\n      <td>5</td>\n      <td>1963</td>\n      <td>1950</td>\n      <td>Gable</td>\n      <td>VinylSd</td>\n      <td>VinylSd</td>\n      <td>TA</td>\n      <td>CBlock</td>\n      <td>555.696962</td>\n      <td>489.267758</td>\n      <td>622.300052</td>\n      <td>Ex</td>\n      <td>Y</td>\n      <td>SBrkr</td>\n      <td>941</td>\n      <td>0</td>\n      <td>848</td>\n      <td>1.001999</td>\n      <td>2</td>\n      <td>0</td>\n      <td>3</td>\n      <td>1</td>\n      <td>TA</td>\n      <td>5</td>\n      <td>0</td>\n      <td>1.998003</td>\n      <td>377.495159</td>\n      <td>Y</td>\n      <td>0</td>\n      <td>0</td>\n      <td>7</td>\n      <td>2007</td>\n      <td>WD</td>\n      <td>Normal</td>\n    </tr>\n  </tbody>\n</table>\n</div>"
     },
     "execution_count": 4,
     "metadata": {},
     "output_type": "execute_result"
    }
   ],
   "source": [
    "sample_submit.head()\n",
    "test.head()"
   ],
   "metadata": {
    "collapsed": false,
    "ExecuteTime": {
     "end_time": "2023-12-17T09:07:02.150509Z",
     "start_time": "2023-12-17T09:07:01.832457Z"
    }
   },
   "id": "728a3089bfca0916"
  },
  {
   "cell_type": "code",
   "execution_count": 5,
   "outputs": [],
   "source": [
    "# #訓練データと検証データを分割\n",
    "# X_train, X_val, y_train, y_val = train_test_split(\n",
    "#     train_data.drop('SalePrice', axis=1).iloc[ : len(train)],\n",
    "#     train_data['SalePrice'].iloc[ : len(train)],\n",
    "#     shuffle=True, train_size=0.8,\n",
    "#     random_state=seed)\n",
    "# len(X_train)"
   ],
   "metadata": {
    "collapsed": false,
    "ExecuteTime": {
     "end_time": "2023-12-17T09:07:02.345233Z",
     "start_time": "2023-12-17T09:07:02.010397Z"
    }
   },
   "id": "27ff4bae4f8288eb"
  },
  {
   "cell_type": "code",
   "execution_count": 5,
   "outputs": [],
   "source": [],
   "metadata": {
    "collapsed": false,
    "ExecuteTime": {
     "end_time": "2023-12-17T09:07:02.347611Z",
     "start_time": "2023-12-17T09:07:02.042016Z"
    }
   },
   "id": "2c44c0d9f68768a3"
  },
  {
   "cell_type": "code",
   "execution_count": null,
   "outputs": [],
   "source": [
    "#交差検証\n",
    "from sklearn.model_selection import cross_val_score, KFold\n",
    "from sklearn.metrics import mean_squared_error\n",
    "\n",
    "params = {'objective': 'regression',\n",
    "          'metric': 'rmse',\n",
    "          'num_leaves': 31,\n",
    "          'learning_rate': 0.05,\n",
    "          'n_estimators': 100}\n",
    "\n",
    "cv = KFold(n_splits=3, random_state=seed, shuffle=True)\n",
    "\n",
    "# RMSEスコアを格納するリスト\n",
    "rmse_scores = []\n",
    "\n",
    "# 交差検証\n",
    "    \n",
    "X = train_data.drop('SalePrice', axis=1).iloc[ : len(train)]\n",
    "y = train_data['SalePrice'].iloc[ : len(train)]\n",
    "\n",
    "for train_index, val_index in cv.split(X):\n",
    "    X_train, X_val = X.iloc[train_index], X.iloc[val_index]\n",
    "    y_train, y_val = y.iloc[train_index], y.iloc[val_index]\n",
    "    \n",
    "    # LightGBM用データセット\n",
    "    lgb_train = lgb.Dataset(X_train, y_train)\n",
    "    lgb_val = lgb.Dataset(X_val, y_val)\n",
    "    \n",
    "    lgb_model = lgb.train(params, lgb_train, num_boost_round=100,\n",
    "                          valid_sets=[lgb_train, lgb_val],\n",
    "                          callbacks=[lgb.early_stopping(stopping_rounds=10, \n",
    "                                verbose=True),lgb.log_evaluation(100)]\n",
    "                          )\n",
    "\n",
    "    # # 検証データで予測\n",
    "    # y_pred = lgb.predict(X_val, num_iteration=lgb.best_iteration)\n",
    "    # \n",
    "    # # RMSEを計算してリストに追加\n",
    "    # rmse_score = np.sqrt(mean_squared_error(y_val, y_pred))\n",
    "    # rmse_scores.append(rmse_score)\n",
    "    \n",
    "# スコアを表示\n",
    "print('RMSE scores:', rmse_scores)\n",
    "print('Average RMSE:', np.mean(rmse_scores))"
   ],
   "metadata": {
    "collapsed": false,
    "is_executing": true,
    "ExecuteTime": {
     "start_time": "2023-12-17T09:07:02.097041Z"
    }
   },
   "id": "4b7ee4166428c274"
  },
  {
   "cell_type": "code",
   "execution_count": null,
   "outputs": [],
   "source": [],
   "metadata": {
    "collapsed": false,
    "is_executing": true
   },
   "id": "c0b6bba22280a92d"
  }
 ],
 "metadata": {
  "kernelspec": {
   "display_name": "Python 3",
   "language": "python",
   "name": "python3"
  },
  "language_info": {
   "codemirror_mode": {
    "name": "ipython",
    "version": 2
   },
   "file_extension": ".py",
   "mimetype": "text/x-python",
   "name": "python",
   "nbconvert_exporter": "python",
   "pygments_lexer": "ipython2",
   "version": "2.7.6"
  }
 },
 "nbformat": 4,
 "nbformat_minor": 5
}
